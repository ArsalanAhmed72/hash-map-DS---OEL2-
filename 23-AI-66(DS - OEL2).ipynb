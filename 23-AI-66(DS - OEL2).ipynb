{
  "nbformat": 4,
  "nbformat_minor": 0,
  "metadata": {
    "colab": {
      "provenance": []
    },
    "kernelspec": {
      "name": "python3",
      "display_name": "Python 3"
    },
    "language_info": {
      "name": "python"
    }
  },
  "cells": [
    {
      "cell_type": "code",
      "execution_count": 1,
      "metadata": {
        "colab": {
          "base_uri": "https://localhost:8080/"
        },
        "id": "8Fgs3Ls_tuA4",
        "outputId": "d61f62ab-045d-425e-b52d-f05b5cbca385"
      },
      "outputs": [
        {
          "output_type": "stream",
          "name": "stdout",
          "text": [
            "True\n",
            "False\n"
          ]
        }
      ],
      "source": [
        "def change_pattern(pattern , s):#ik function define kiya jo do parameters le raha hai jisme \"s\" string hai\n",
        "    words = s.split() #is line mein ham words ko slipt krke store krwaenge\n",
        "    if len(pattern) != len(words):#is line mein check kiya hai ke pattern ki length agar word ki length se match nhi\n",
        "        return False # karegi to ham false return krwadenge\n",
        "    patternintoword = {} # yahan ik empty dictionary banai hai jo maps ke pattern ko words mein change karne mein use hogi\n",
        "    wordsintopattern = {} # yahan bhi ik empty dictionary banai hai jo maps ke words ko pattern mein change karegi\n",
        "\n",
        "    for char , word in zip(pattern , words): #ye ik for loop lagaya hai jo check karega char and word\n",
        "        if char in patternintoword and patternintoword[char] !=word: #agar koi char already ksi char ke sath map hai to\n",
        "            return False # false return karadega\n",
        "\n",
        "        if word in wordsintopattern and wordsintopattern[word] != char: #agar koi word already kisi char ke sath hai or\n",
        "            return False # wo dosre ke sath krne ki try karega to false return hojaega\n",
        "\n",
        "        patternintoword[char] = word #ye values store karega\n",
        "        wordsintopattern[word] = char #ye bhi store karega\n",
        "\n",
        "    return True #or phr checking ke baad true return krdega\n",
        "\n",
        "\n",
        "pattern = \"dccd\" # yahan simple pattern diya hai jis ke according wo check karega ke true hai ya false\n",
        "s = \"my car car my\" # ye hamne string declare krwaee\n",
        "print(change_pattern(pattern, s)) # simple print krwadiya\n",
        "\n",
        "pattern = \"dccd\" # yahan bhi same kaam kiya hai\n",
        "s = \"my car car yours\"\n",
        "print(change_pattern(pattern, s))\n",
        "\n",
        "\n",
        "\n",
        "\n",
        "\n"
      ]
    }
  ]
}